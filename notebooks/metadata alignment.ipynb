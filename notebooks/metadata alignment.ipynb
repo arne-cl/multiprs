{
 "cells": [
  {
   "cell_type": "markdown",
   "metadata": {},
   "source": [
    "# Metadata Alignment for Multilit"
   ]
  },
  {
   "cell_type": "code",
   "execution_count": 1,
   "metadata": {
    "collapsed": false
   },
   "outputs": [],
   "source": [
    "from multiprs import metareader"
   ]
  },
  {
   "cell_type": "code",
   "execution_count": 4,
   "metadata": {
    "collapsed": false
   },
   "outputs": [],
   "source": [
    "survey = metareader.read_table('../data/Fragebogen_SEK_14_3_2013.xls')"
   ]
  },
  {
   "cell_type": "code",
   "execution_count": 5,
   "metadata": {
    "collapsed": true
   },
   "outputs": [],
   "source": [
    "comafile = metareader.Comafile('../data/MultilitGer.coma')"
   ]
  },
  {
   "cell_type": "code",
   "execution_count": 6,
   "metadata": {
    "collapsed": true
   },
   "outputs": [],
   "source": [
    "speakers = comafile.speakers()"
   ]
  },
  {
   "cell_type": "code",
   "execution_count": 9,
   "metadata": {
    "collapsed": false
   },
   "outputs": [
    {
     "data": {
      "text/plain": [
       "u\"['UFU', 'ZEN', 'ZER', 'DER', 'ANI', 'FIG', 'AYL', 'YAP', 'YAS', 'YAL', 'FAT', 'YUN', 'CAN', 'SED', 'HAK', 'SEN', 'SEL', u'B\\\\xdcL', 'GAM', 'TAR', 'OSM', 'GEN', 'ESR', 'HEL', 'ESN', 'VED', 'ELI', 'ASL', 'KER', 'ADA', 'NUR', 'SER', 'MUR', 'MUS', 'EME', 'MER', 'NES', 'KAD', 'YAG', 'NIL', 'MEH', 'CEM', 'CIH', 'CS ', 'BEG', 'YIL', 'AKA', 'OZA', 'BER', 'FUL', 'ZEH', 'ATA', 'RUY', 'BEK']\""
      ]
     },
     "execution_count": 9,
     "metadata": {},
     "output_type": "execute_result"
    }
   ],
   "source": [
    "unicode(speakers)"
   ]
  },
  {
   "cell_type": "code",
   "execution_count": 11,
   "metadata": {
    "collapsed": false
   },
   "outputs": [],
   "source": [
    "for speaker in speakers:\n",
    "    speak = metareader.find_speaker(speaker, survey.sheet_by_index(0))\n",
    "    comafile.write_speaker_to_coma(speak)"
   ]
  },
  {
   "cell_type": "code",
   "execution_count": 12,
   "metadata": {
    "collapsed": false
   },
   "outputs": [
    {
     "data": {
      "text/plain": [
       "('BEK',\n",
       " {'': '',\n",
       "  u'2nd foreign language': u'ja, in der Schule',\n",
       "  u'Age': 18.416438356164385,\n",
       "  u'Birth Country Father': u'D',\n",
       "  u'Birth Country Mother': u'T',\n",
       "  u'Books': u'DE, TR, (EN)',\n",
       "  u'Corpus': u'BEK',\n",
       "  u'Entry G': 0.0,\n",
       "  u'Facebook,Twitter-Ger': u'oft',\n",
       "  u'Facebook,Twitter-Other Lg': u'EN manchmal',\n",
       "  u'Facebook,Twitter-TR': u'manchmal',\n",
       "  u'GER -1st contact': u'Familie',\n",
       "  u'Highest diploma': u'k.A.',\n",
       "  u'Highest diploma: father': u'mitt.Abschluss',\n",
       "  u'How do you judge your compentency in your mother tongue in comparison TO German?': u'gleich',\n",
       "  u'How well do  you understand your spoken mother tongue?': u'sehr gut',\n",
       "  u'How well do you read in German?': u'sehr gut',\n",
       "  u'How well do you read in your mother tongue?': u'sehr gut',\n",
       "  u'How well do you speak German?': u'gut',\n",
       "  u'How well do you speak your mother tongue?': u'sehr gut',\n",
       "  u'How well do you understand spoken German?': u'sehr gut',\n",
       "  u'How well do you write in German?': u'gut ',\n",
       "  u'How well do you write in your mother tongue?\\n\\n': u'sehr gut',\n",
       "  u'Intended profession': u'Kripo',\n",
       "  u'L1  instruction ': u'ja, in DE',\n",
       "  u'Lang II': u'TR, DE',\n",
       "  u'Lang III': u'DE, TR, EN',\n",
       "  u'Lg to fa- Ger': u'TR h, TR/DE m',\n",
       "  u'Lg to fa-Tky': u'TR h, DE s',\n",
       "  u'Lg to friends - diff.or.': u'DE h, EN m',\n",
       "  u'Lg to friends - same origin': u'DE h, TR/DE m',\n",
       "  u'Lg to friends-Tky': u'TR h, DE s',\n",
       "  u'Lg to grandpar -Ger': u'TR',\n",
       "  u'Lg to grandpar-Tky': u'TR h',\n",
       "  u'Lg to mo -Germany': u'TR h ',\n",
       "  u'Lg to mo-Tky': u'TR h',\n",
       "  u'Lg to older sibs-Ger': u'TR/DE h',\n",
       "  u'Lg to older sibs-Tky': u'TR h, DE s',\n",
       "  u'Lg to younger sibs-Ger': u'TR/DE h ',\n",
       "  u'Lg to younger sibs-Tky': u'TR h, DE s',\n",
       "  u'Moth. Languages': u'TR',\n",
       "  u'Music': u'TR, (DE), (EN)',\n",
       "  u'Name': u'Burak Kara',\n",
       "  u'Online': '',\n",
       "  u'Peers': '',\n",
       "  u'Place of birth': u'D',\n",
       "  u'Plans': u'Studium bei der Kriminalpolizei',\n",
       "  u'Pseudonym': u'Bekir',\n",
       "  u'Radio und TV': '',\n",
       "  u'Radio-Ger': u'k.A.',\n",
       "  u'Radio-Tur': u'k.A.',\n",
       "  u'Radio-other lg': u'k.A.',\n",
       "  u'SMS-Ger': u'oft',\n",
       "  u'SMS-Other': u'k.A.',\n",
       "  u'SMS-Tur': u'manchmal',\n",
       "  u'Sex': u'm',\n",
       "  u'TV, etc.-Ger': u'oft',\n",
       "  u'TV, etc.-Tur': u'oft',\n",
       "  u'TV, film, etc.': u'ja',\n",
       "  u'TV- Other Lg ': u'EN manchmal',\n",
       "  u'TV-other  name of lg': u'k.A.',\n",
       "  u'Writing outside': u'DE, TR',\n",
       "  u'Year of birth': 1992.0,\n",
       "  u'date of arrival': u'k.A.',\n",
       "  u'e-mails-Ger': u'oft',\n",
       "  u'e-mails-Other Lg': u'EN manchmal',\n",
       "  u'e-mails-Tur': u'ja',\n",
       "  u'english instruction': u'3. Klasse',\n",
       "  u'grade': 12.0,\n",
       "  u'name Other Lg': u'k.A.',\n",
       "  u'no L1 instruction without formal instruction ': '',\n",
       "  u'place of schooling': u'D',\n",
       "  u'pleasant lg./Bedinungsanleitung (operating instructions)': u'alles',\n",
       "  u'pleasant lg./Handy': u'DE/EN/TR',\n",
       "  u'pleasant lg./coputer-game': u'DE/EN',\n",
       "  u'pleasant lg./reading': u'DE',\n",
       "  u'school-grade': u'RKO'})"
      ]
     },
     "execution_count": 12,
     "metadata": {},
     "output_type": "execute_result"
    }
   ],
   "source": [
    "speak"
   ]
  },
  {
   "cell_type": "code",
   "execution_count": null,
   "metadata": {
    "collapsed": false
   },
   "outputs": [],
   "source": [
    "\n",
    "surv = metadater.reader.read_table('data/Fragebogen_SEK_14_3_2013.xls')\n",
    "\n",
    "cm = Comafile('Coma/MultilitGer.coma')\n",
    "\n",
    "sp = cm.speakers()\n",
    "\n",
    "print sp\n",
    "print \"Number of Speakers: \" + str(len(sp))\n",
    "\n",
    "for person in sp:\n",
    "    speak = find_speaker(person, surv.sheet_by_index(0))\n",
    "    cm.write_speaker_to_coma(speak)\n",
    "\n",
    "print cm.write_xml('MetaMultiGer.coma')"
   ]
  }
 ],
 "metadata": {
  "kernelspec": {
   "display_name": "Python 2",
   "language": "python",
   "name": "python2"
  },
  "language_info": {
   "codemirror_mode": {
    "name": "ipython",
    "version": 2
   },
   "file_extension": ".py",
   "mimetype": "text/x-python",
   "name": "python",
   "nbconvert_exporter": "python",
   "pygments_lexer": "ipython2",
   "version": "2.7.9"
  }
 },
 "nbformat": 4,
 "nbformat_minor": 0
}
